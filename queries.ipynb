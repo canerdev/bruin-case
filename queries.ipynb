{
 "cells": [
  {
   "cell_type": "code",
   "execution_count": 24,
   "id": "5e558d3a-60e8-4aa4-b2f6-6c5508c61bea",
   "metadata": {},
   "outputs": [
    {
     "name": "stdout",
     "output_type": "stream",
     "text": [
      "Note: you may need to restart the kernel to use updated packages.Requirement already satisfied: google-auth in c:\\users\\caner\\appdata\\local\\programs\\python\\python311\\lib\\site-packages (2.32.0)\n",
      "Requirement already satisfied: cachetools<6.0,>=2.0.0 in c:\\users\\caner\\appdata\\local\\programs\\python\\python311\\lib\\site-packages (from google-auth) (5.4.0)\n",
      "Requirement already satisfied: pyasn1-modules>=0.2.1 in c:\\users\\caner\\appdata\\local\\programs\\python\\python311\\lib\\site-packages (from google-auth) (0.4.0)\n",
      "Requirement already satisfied: rsa<5,>=3.1.4 in c:\\users\\caner\\appdata\\local\\programs\\python\\python311\\lib\\site-packages (from google-auth) (4.9)\n",
      "Requirement already satisfied: pyasn1<0.7.0,>=0.4.6 in c:\\users\\caner\\appdata\\local\\programs\\python\\python311\\lib\\site-packages (from pyasn1-modules>=0.2.1->google-auth) (0.6.0)\n",
      "\n"
     ]
    },
    {
     "name": "stderr",
     "output_type": "stream",
     "text": [
      "\n",
      "[notice] A new release of pip is available: 23.3.1 -> 24.2\n",
      "[notice] To update, run: python.exe -m pip install --upgrade pip\n"
     ]
    }
   ],
   "source": [
    "pip install google-auth"
   ]
  },
  {
   "cell_type": "code",
   "execution_count": 27,
   "id": "709edef6",
   "metadata": {},
   "outputs": [
    {
     "name": "stdout",
     "output_type": "stream",
     "text": [
      "Requirement already satisfied: google-cloud-bigquery[pandas] in c:\\users\\caner\\appdata\\local\\programs\\python\\python311\\lib\\site-packages (3.25.0)\n",
      "Requirement already satisfied: google-api-core!=2.0.*,!=2.1.*,!=2.10.*,!=2.2.*,!=2.3.*,!=2.4.*,!=2.5.*,!=2.6.*,!=2.7.*,!=2.8.*,!=2.9.*,<3.0.0dev,>=1.34.1 in c:\\users\\caner\\appdata\\local\\programs\\python\\python311\\lib\\site-packages (from google-api-core[grpc]!=2.0.*,!=2.1.*,!=2.10.*,!=2.2.*,!=2.3.*,!=2.4.*,!=2.5.*,!=2.6.*,!=2.7.*,!=2.8.*,!=2.9.*,<3.0.0dev,>=1.34.1->google-cloud-bigquery[pandas]) (2.19.1)\n",
      "Requirement already satisfied: google-auth<3.0.0dev,>=2.14.1 in c:\\users\\caner\\appdata\\local\\programs\\python\\python311\\lib\\site-packages (from google-cloud-bigquery[pandas]) (2.32.0)\n",
      "Requirement already satisfied: google-cloud-core<3.0.0dev,>=1.6.0 in c:\\users\\caner\\appdata\\local\\programs\\python\\python311\\lib\\site-packages (from google-cloud-bigquery[pandas]) (2.4.1)\n",
      "Requirement already satisfied: google-resumable-media<3.0dev,>=0.6.0 in c:\\users\\caner\\appdata\\local\\programs\\python\\python311\\lib\\site-packages (from google-cloud-bigquery[pandas]) (2.7.1)\n",
      "Requirement already satisfied: packaging>=20.0.0 in c:\\users\\caner\\appdata\\roaming\\python\\python311\\site-packages (from google-cloud-bigquery[pandas]) (23.0)\n",
      "Requirement already satisfied: python-dateutil<3.0dev,>=2.7.2 in c:\\users\\caner\\appdata\\roaming\\python\\python311\\site-packages (from google-cloud-bigquery[pandas]) (2.8.2)\n",
      "Requirement already satisfied: requests<3.0.0dev,>=2.21.0 in c:\\users\\caner\\appdata\\local\\programs\\python\\python311\\lib\\site-packages (from google-cloud-bigquery[pandas]) (2.25.1)\n",
      "Requirement already satisfied: pandas>=1.1.0 in c:\\users\\caner\\appdata\\local\\programs\\python\\python311\\lib\\site-packages (from google-cloud-bigquery[pandas]) (2.0.1)\n",
      "Requirement already satisfied: pyarrow>=3.0.0 in c:\\users\\caner\\appdata\\local\\programs\\python\\python311\\lib\\site-packages (from google-cloud-bigquery[pandas]) (14.0.1)\n",
      "Collecting db-dtypes<2.0.0dev,>=0.3.0 (from google-cloud-bigquery[pandas])\n",
      "  Using cached db_dtypes-1.2.0-py2.py3-none-any.whl.metadata (3.0 kB)\n",
      "Requirement already satisfied: numpy>=1.16.6 in c:\\users\\caner\\appdata\\local\\programs\\python\\python311\\lib\\site-packages (from db-dtypes<2.0.0dev,>=0.3.0->google-cloud-bigquery[pandas]) (1.24.2)\n",
      "Requirement already satisfied: googleapis-common-protos<2.0.dev0,>=1.56.2 in c:\\users\\caner\\appdata\\local\\programs\\python\\python311\\lib\\site-packages (from google-api-core!=2.0.*,!=2.1.*,!=2.10.*,!=2.2.*,!=2.3.*,!=2.4.*,!=2.5.*,!=2.6.*,!=2.7.*,!=2.8.*,!=2.9.*,<3.0.0dev,>=1.34.1->google-api-core[grpc]!=2.0.*,!=2.1.*,!=2.10.*,!=2.2.*,!=2.3.*,!=2.4.*,!=2.5.*,!=2.6.*,!=2.7.*,!=2.8.*,!=2.9.*,<3.0.0dev,>=1.34.1->google-cloud-bigquery[pandas]) (1.63.2)\n",
      "Requirement already satisfied: protobuf!=3.20.0,!=3.20.1,!=4.21.0,!=4.21.1,!=4.21.2,!=4.21.3,!=4.21.4,!=4.21.5,<6.0.0.dev0,>=3.19.5 in c:\\users\\caner\\appdata\\local\\programs\\python\\python311\\lib\\site-packages (from google-api-core!=2.0.*,!=2.1.*,!=2.10.*,!=2.2.*,!=2.3.*,!=2.4.*,!=2.5.*,!=2.6.*,!=2.7.*,!=2.8.*,!=2.9.*,<3.0.0dev,>=1.34.1->google-api-core[grpc]!=2.0.*,!=2.1.*,!=2.10.*,!=2.2.*,!=2.3.*,!=2.4.*,!=2.5.*,!=2.6.*,!=2.7.*,!=2.8.*,!=2.9.*,<3.0.0dev,>=1.34.1->google-cloud-bigquery[pandas]) (5.27.3)\n",
      "Requirement already satisfied: proto-plus<2.0.0dev,>=1.22.3 in c:\\users\\caner\\appdata\\local\\programs\\python\\python311\\lib\\site-packages (from google-api-core!=2.0.*,!=2.1.*,!=2.10.*,!=2.2.*,!=2.3.*,!=2.4.*,!=2.5.*,!=2.6.*,!=2.7.*,!=2.8.*,!=2.9.*,<3.0.0dev,>=1.34.1->google-api-core[grpc]!=2.0.*,!=2.1.*,!=2.10.*,!=2.2.*,!=2.3.*,!=2.4.*,!=2.5.*,!=2.6.*,!=2.7.*,!=2.8.*,!=2.9.*,<3.0.0dev,>=1.34.1->google-cloud-bigquery[pandas]) (1.24.0)\n",
      "Requirement already satisfied: grpcio<2.0dev,>=1.33.2 in c:\\users\\caner\\appdata\\local\\programs\\python\\python311\\lib\\site-packages (from google-api-core[grpc]!=2.0.*,!=2.1.*,!=2.10.*,!=2.2.*,!=2.3.*,!=2.4.*,!=2.5.*,!=2.6.*,!=2.7.*,!=2.8.*,!=2.9.*,<3.0.0dev,>=1.34.1->google-cloud-bigquery[pandas]) (1.65.4)\n",
      "Requirement already satisfied: grpcio-status<2.0.dev0,>=1.33.2 in c:\\users\\caner\\appdata\\local\\programs\\python\\python311\\lib\\site-packages (from google-api-core[grpc]!=2.0.*,!=2.1.*,!=2.10.*,!=2.2.*,!=2.3.*,!=2.4.*,!=2.5.*,!=2.6.*,!=2.7.*,!=2.8.*,!=2.9.*,<3.0.0dev,>=1.34.1->google-cloud-bigquery[pandas]) (1.65.4)\n",
      "Requirement already satisfied: cachetools<6.0,>=2.0.0 in c:\\users\\caner\\appdata\\local\\programs\\python\\python311\\lib\\site-packages (from google-auth<3.0.0dev,>=2.14.1->google-cloud-bigquery[pandas]) (5.4.0)\n",
      "Requirement already satisfied: pyasn1-modules>=0.2.1 in c:\\users\\caner\\appdata\\local\\programs\\python\\python311\\lib\\site-packages (from google-auth<3.0.0dev,>=2.14.1->google-cloud-bigquery[pandas]) (0.4.0)\n",
      "Requirement already satisfied: rsa<5,>=3.1.4 in c:\\users\\caner\\appdata\\local\\programs\\python\\python311\\lib\\site-packages (from google-auth<3.0.0dev,>=2.14.1->google-cloud-bigquery[pandas]) (4.9)\n",
      "Requirement already satisfied: google-crc32c<2.0dev,>=1.0 in c:\\users\\caner\\appdata\\local\\programs\\python\\python311\\lib\\site-packages (from google-resumable-media<3.0dev,>=0.6.0->google-cloud-bigquery[pandas]) (1.5.0)\n",
      "Requirement already satisfied: pytz>=2020.1 in c:\\users\\caner\\appdata\\local\\programs\\python\\python311\\lib\\site-packages (from pandas>=1.1.0->google-cloud-bigquery[pandas]) (2023.3)\n",
      "Requirement already satisfied: tzdata>=2022.1 in c:\\users\\caner\\appdata\\local\\programs\\python\\python311\\lib\\site-packages (from pandas>=1.1.0->google-cloud-bigquery[pandas]) (2023.3)\n",
      "Requirement already satisfied: six>=1.5 in c:\\users\\caner\\appdata\\roaming\\python\\python311\\site-packages (from python-dateutil<3.0dev,>=2.7.2->google-cloud-bigquery[pandas]) (1.16.0)\n",
      "Requirement already satisfied: chardet<5,>=3.0.2 in c:\\users\\caner\\appdata\\local\\programs\\python\\python311\\lib\\site-packages (from requests<3.0.0dev,>=2.21.0->google-cloud-bigquery[pandas]) (3.0.4)\n",
      "Requirement already satisfied: idna<3,>=2.5 in c:\\users\\caner\\appdata\\local\\programs\\python\\python311\\lib\\site-packages (from requests<3.0.0dev,>=2.21.0->google-cloud-bigquery[pandas]) (2.10)\n",
      "Requirement already satisfied: urllib3<1.27,>=1.21.1 in c:\\users\\caner\\appdata\\local\\programs\\python\\python311\\lib\\site-packages (from requests<3.0.0dev,>=2.21.0->google-cloud-bigquery[pandas]) (1.26.18)\n",
      "Requirement already satisfied: certifi>=2017.4.17 in c:\\users\\caner\\appdata\\local\\programs\\python\\python311\\lib\\site-packages (from requests<3.0.0dev,>=2.21.0->google-cloud-bigquery[pandas]) (2023.11.17)\n",
      "Requirement already satisfied: pyasn1<0.7.0,>=0.4.6 in c:\\users\\caner\\appdata\\local\\programs\\python\\python311\\lib\\site-packages (from pyasn1-modules>=0.2.1->google-auth<3.0.0dev,>=2.14.1->google-cloud-bigquery[pandas]) (0.6.0)\n",
      "Using cached db_dtypes-1.2.0-py2.py3-none-any.whl (14 kB)\n",
      "Installing collected packages: db-dtypes\n",
      "Successfully installed db-dtypes-1.2.0\n",
      "Note: you may need to restart the kernel to use updated packages.\n"
     ]
    },
    {
     "name": "stderr",
     "output_type": "stream",
     "text": [
      "\n",
      "[notice] A new release of pip is available: 23.3.1 -> 24.2\n",
      "[notice] To update, run: python.exe -m pip install --upgrade pip\n"
     ]
    }
   ],
   "source": [
    "pip install google-cloud-bigquery[pandas]"
   ]
  },
  {
   "cell_type": "code",
   "execution_count": 2,
   "id": "78207775-14b4-490d-82c6-4d47bd6053e4",
   "metadata": {},
   "outputs": [],
   "source": [
    "key_path = \"Downloads/buring-case-credentials.json\""
   ]
  },
  {
   "cell_type": "code",
   "execution_count": 3,
   "id": "8315f651-bbf5-4816-9eb8-1823b8fef3d0",
   "metadata": {},
   "outputs": [],
   "source": [
    "from google.cloud import bigquery\n",
    "from google.oauth2 import service_account\n",
    "import pandas as pd\n"
   ]
  },
  {
   "cell_type": "code",
   "execution_count": 4,
   "id": "c780e440-98c1-4e87-b92f-007eb9dc769e",
   "metadata": {},
   "outputs": [],
   "source": [
    "credentials = service_account.Credentials.from_service_account_file(key_path)"
   ]
  },
  {
   "cell_type": "code",
   "execution_count": 5,
   "id": "838e9489-1bdc-4d9a-a8e8-8b2e5892d0fa",
   "metadata": {},
   "outputs": [],
   "source": [
    "client = bigquery.Client(credentials=credentials, project=credentials.project_id)"
   ]
  },
  {
   "cell_type": "code",
   "execution_count": null,
   "id": "68eafee9-a24c-4c56-99d2-2550997e1884",
   "metadata": {},
   "outputs": [],
   "source": [
    "# q1 = \"\"\"\n",
    "# INSERT INTO `bruin-hiring.cdt_caneraslan.q1` (repo_name, usage_count)\n",
    "# (\n",
    "#   SELECT\n",
    "#     repo_name,\n",
    "#     COUNT(repo_name) as usage_count\n",
    "#   FROM `bruin-hiring.github_repos.sample_commits`\n",
    "#   GROUP BY repo_name\n",
    "#   ORDER BY usage_count DESC\n",
    "# )\n",
    "# \"\"\"\n",
    "\n",
    "# insert_job = client.query(q1)\n",
    "# insert_job.result()\n",
    "\n",
    "\n",
    "# res = client.query(q1).result()\n",
    "# df = res.to_dataframe()\n",
    "# print(df)"
   ]
  },
  {
   "cell_type": "code",
   "execution_count": 25,
   "id": "4e3452c2",
   "metadata": {},
   "outputs": [],
   "source": [
    "# q2 = \"\"\"\n",
    "# INSERT INTO `bruin-hiring.cdt_caneraslan.q2` (contributor, contribution_number)\n",
    "# (\n",
    "# SELECT\n",
    "#   committer.name as contributor,\n",
    "#   COUNT(committer.name) as contribution_number\n",
    "# FROM `bruin-hiring.github_repos.sample_commits`\n",
    "# GROUP BY contributor\n",
    "# )\n",
    "# \"\"\"\n",
    "\n",
    "query_job = client.query(q2)\n",
    "res = query_job.result()\n",
    "\n",
    "\n",
    "# df = res.to_dataframe()\n",
    "# print(df)"
   ]
  },
  {
   "cell_type": "code",
   "execution_count": 27,
   "id": "7a1ae140",
   "metadata": {},
   "outputs": [],
   "source": [
    "# q3 = \"\"\"\n",
    "# INSERT INTO `bruin-hiring.cdt_caneraslan.q3` (contributor, distinct_repo_number)\n",
    "# (\n",
    "# SELECT \n",
    "# committer.name as contribtor, COUNT(DISTINCT repo_name) as distinct_repo_number  \n",
    "# FROM `bruin-hiring.github_repos.sample_commits`  \n",
    "# GROUP BY committer.name\n",
    "# having count(distinct repo_name)>1\n",
    "# )\n",
    "# \"\"\"\n",
    "\n",
    "res = client.query(q3).result()\n",
    "# print(res.to_dataframe())\n"
   ]
  },
  {
   "cell_type": "code",
   "execution_count": 28,
   "id": "6c3330c7",
   "metadata": {},
   "outputs": [],
   "source": [
    "# q4 = \"\"\"\n",
    "# INSERT INTO `bruin-hiring.cdt_caneraslan.q4` (email_domain, usage_count)\n",
    "# (\n",
    "# SELECT REGEXP_EXTRACT(t.email, r'@(.+)$') AS email_domain, COUNT(t.email) as usage_count\n",
    "# FROM `bruin-hiring.github_repos.sample_commits`, UNNEST(trailer) as t\n",
    "# WHERE t.email is not null\n",
    "# GROUP BY email_domain\n",
    "# )\n",
    "# \"\"\"\n",
    "\n",
    "res = client.query(q4).result()\n",
    "# print(res.to_dataframe())"
   ]
  },
  {
   "cell_type": "code",
   "execution_count": null,
   "id": "1a2e3ae0",
   "metadata": {},
   "outputs": [],
   "source": [
    "# q5 = \"\"\"\n",
    "# INSERT INTO `bruin-hiring.cdt_caneraslan.q5` (commit_date, number_of_commits)\n",
    "# (\n",
    "# SELECT \n",
    "#   DATE(committer.date) \n",
    "#   AS commit_date, COUNT(committer.date) as number_of_commits \n",
    "# FROM `bruin-hiring.github_repos.sample_commits`\n",
    "# GROUP BY commit_date\n",
    "# )\n",
    "# \"\"\"\n",
    "\n",
    "res = client.query(q5).result()\n",
    "# print(res.to_dataframe())"
   ]
  },
  {
   "cell_type": "code",
   "execution_count": 31,
   "id": "6080adb7",
   "metadata": {},
   "outputs": [],
   "source": [
    "# since weekday function is not recognized in bigquery, extract function must be used instead.\n",
    "# q6 = \"\"\"\n",
    "# INSERT INTO `bruin-hiring.cdt_caneraslan.q6` (commit_date, number_of_commits)\n",
    "# (\n",
    "# SELECT \n",
    "#   DATE(committer.date) AS commit_date,\n",
    "#   COUNT(committer.date) AS number_of_commits\n",
    "# FROM `bruin-hiring.github_repos.sample_commits`\n",
    "# WHERE EXTRACT(DAYOFWEEK FROM committer.date) BETWEEN 2 AND 6\n",
    "# GROUP BY commit_date\n",
    "# )\n",
    "# \"\"\"\n",
    "\n",
    "res = client.query(q6).result()\n",
    "# print(res.to_dataframe())\n"
   ]
  },
  {
   "cell_type": "code",
   "execution_count": null,
   "id": "e5dc2090",
   "metadata": {},
   "outputs": [],
   "source": [
    "pip install \"altair[all]\""
   ]
  },
  {
   "cell_type": "code",
   "execution_count": 39,
   "id": "6c9628e6",
   "metadata": {},
   "outputs": [
    {
     "name": "stderr",
     "output_type": "stream",
     "text": [
      "c:\\Users\\caner\\AppData\\Local\\Programs\\Python\\Python311\\Lib\\site-packages\\google\\cloud\\bigquery\\table.py:1727: UserWarning: BigQuery Storage module not found, fetch data with the REST endpoint instead.\n",
      "  warnings.warn(\n"
     ]
    },
    {
     "name": "stdout",
     "output_type": "stream",
     "text": [
      "               repo_name  usage_count\n",
      "0         torvalds/linux       602604\n",
      "1            apple/swift        38891\n",
      "2         twbs/bootstrap        11777\n",
      "3       Microsoft/vscode         6909\n",
      "4         facebook/react         6875\n",
      "5  tensorflow/tensorflow         5253\n"
     ]
    },
    {
     "data": {
      "text/html": [
       "\n",
       "<style>\n",
       "  #altair-viz-f013a805e7fa4cdbad16ba80612d889f.vega-embed {\n",
       "    width: 100%;\n",
       "    display: flex;\n",
       "  }\n",
       "\n",
       "  #altair-viz-f013a805e7fa4cdbad16ba80612d889f.vega-embed details,\n",
       "  #altair-viz-f013a805e7fa4cdbad16ba80612d889f.vega-embed details summary {\n",
       "    position: relative;\n",
       "  }\n",
       "</style>\n",
       "<div id=\"altair-viz-f013a805e7fa4cdbad16ba80612d889f\"></div>\n",
       "<script type=\"text/javascript\">\n",
       "  var VEGA_DEBUG = (typeof VEGA_DEBUG == \"undefined\") ? {} : VEGA_DEBUG;\n",
       "  (function(spec, embedOpt){\n",
       "    let outputDiv = document.currentScript.previousElementSibling;\n",
       "    if (outputDiv.id !== \"altair-viz-f013a805e7fa4cdbad16ba80612d889f\") {\n",
       "      outputDiv = document.getElementById(\"altair-viz-f013a805e7fa4cdbad16ba80612d889f\");\n",
       "    }\n",
       "    const paths = {\n",
       "      \"vega\": \"https://cdn.jsdelivr.net/npm/vega@5?noext\",\n",
       "      \"vega-lib\": \"https://cdn.jsdelivr.net/npm/vega-lib?noext\",\n",
       "      \"vega-lite\": \"https://cdn.jsdelivr.net/npm/vega-lite@5.17.0?noext\",\n",
       "      \"vega-embed\": \"https://cdn.jsdelivr.net/npm/vega-embed@6?noext\",\n",
       "    };\n",
       "\n",
       "    function maybeLoadScript(lib, version) {\n",
       "      var key = `${lib.replace(\"-\", \"\")}_version`;\n",
       "      return (VEGA_DEBUG[key] == version) ?\n",
       "        Promise.resolve(paths[lib]) :\n",
       "        new Promise(function(resolve, reject) {\n",
       "          var s = document.createElement('script');\n",
       "          document.getElementsByTagName(\"head\")[0].appendChild(s);\n",
       "          s.async = true;\n",
       "          s.onload = () => {\n",
       "            VEGA_DEBUG[key] = version;\n",
       "            return resolve(paths[lib]);\n",
       "          };\n",
       "          s.onerror = () => reject(`Error loading script: ${paths[lib]}`);\n",
       "          s.src = paths[lib];\n",
       "        });\n",
       "    }\n",
       "\n",
       "    function showError(err) {\n",
       "      outputDiv.innerHTML = `<div class=\"error\" style=\"color:red;\">${err}</div>`;\n",
       "      throw err;\n",
       "    }\n",
       "\n",
       "    function displayChart(vegaEmbed) {\n",
       "      vegaEmbed(outputDiv, spec, embedOpt)\n",
       "        .catch(err => showError(`Javascript Error: ${err.message}<br>This usually means there's a typo in your chart specification. See the javascript console for the full traceback.`));\n",
       "    }\n",
       "\n",
       "    if(typeof define === \"function\" && define.amd) {\n",
       "      requirejs.config({paths});\n",
       "      require([\"vega-embed\"], displayChart, err => showError(`Error loading script: ${err.message}`));\n",
       "    } else {\n",
       "      maybeLoadScript(\"vega\", \"5\")\n",
       "        .then(() => maybeLoadScript(\"vega-lite\", \"5.17.0\"))\n",
       "        .then(() => maybeLoadScript(\"vega-embed\", \"6\"))\n",
       "        .catch(showError)\n",
       "        .then(() => displayChart(vegaEmbed));\n",
       "    }\n",
       "  })({\"config\": {\"view\": {\"continuousWidth\": 300, \"continuousHeight\": 300}}, \"data\": {\"name\": \"data-0014071d06f811a183f20915fc4fe45b\"}, \"mark\": {\"type\": \"bar\"}, \"encoding\": {\"x\": {\"field\": \"repo_name\", \"type\": \"nominal\"}, \"y\": {\"field\": \"usage_count\", \"type\": \"quantitative\"}}, \"params\": [{\"name\": \"param_5\", \"select\": {\"type\": \"interval\", \"encodings\": [\"x\", \"y\"]}, \"bind\": \"scales\"}], \"$schema\": \"https://vega.github.io/schema/vega-lite/v5.17.0.json\", \"datasets\": {\"data-0014071d06f811a183f20915fc4fe45b\": [{\"repo_name\": \"torvalds/linux\", \"usage_count\": 602604}, {\"repo_name\": \"apple/swift\", \"usage_count\": 38891}, {\"repo_name\": \"twbs/bootstrap\", \"usage_count\": 11777}, {\"repo_name\": \"Microsoft/vscode\", \"usage_count\": 6909}, {\"repo_name\": \"facebook/react\", \"usage_count\": 6875}, {\"repo_name\": \"tensorflow/tensorflow\", \"usage_count\": 5253}]}}, {\"mode\": \"vega-lite\"});\n",
       "</script>"
      ],
      "text/plain": [
       "alt.Chart(...)"
      ]
     },
     "execution_count": 39,
     "metadata": {},
     "output_type": "execute_result"
    }
   ],
   "source": [
    "# import altair with an abbreviated alias\n",
    "import altair as alt\n",
    "\n",
    "q1 = \"\"\"\n",
    "SELECT * FROM `bruin-hiring.cdt_caneraslan.q1`\n",
    "ORDER BY usage_count DESC\n",
    "\"\"\"\n",
    "\n",
    "insert_job = client.query(q1)\n",
    "insert_job.result()\n",
    "\n",
    "res = client.query(q1).result()\n",
    "df = res.to_dataframe()\n",
    "print(df)\n",
    "\n",
    "# make the chart\n",
    "alt.Chart(df).mark_bar().encode(\n",
    "    x='repo_name',\n",
    "    y='usage_count',\n",
    ").interactive()"
   ]
  }
 ],
 "metadata": {
  "kernelspec": {
   "display_name": "Python 3 (ipykernel)",
   "language": "python",
   "name": "python3"
  },
  "language_info": {
   "codemirror_mode": {
    "name": "ipython",
    "version": 3
   },
   "file_extension": ".py",
   "mimetype": "text/x-python",
   "name": "python",
   "nbconvert_exporter": "python",
   "pygments_lexer": "ipython3",
   "version": "3.11.1"
  }
 },
 "nbformat": 4,
 "nbformat_minor": 5
}
