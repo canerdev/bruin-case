{
 "cells": [
  {
   "cell_type": "code",
   "execution_count": null,
   "id": "5e558d3a-60e8-4aa4-b2f6-6c5508c61bea",
   "metadata": {},
   "outputs": [],
   "source": [
    "pip install google-auth"
   ]
  },
  {
   "cell_type": "code",
   "execution_count": null,
   "id": "709edef6",
   "metadata": {},
   "outputs": [],
   "source": [
    "pip install google-cloud-bigquery[pandas]"
   ]
  },
  {
   "cell_type": "code",
   "execution_count": 2,
   "id": "78207775-14b4-490d-82c6-4d47bd6053e4",
   "metadata": {},
   "outputs": [],
   "source": [
    "key_path = \"Downloads/buring-case-credentials.json\""
   ]
  },
  {
   "cell_type": "code",
   "execution_count": 3,
   "id": "8315f651-bbf5-4816-9eb8-1823b8fef3d0",
   "metadata": {},
   "outputs": [],
   "source": [
    "from google.cloud import bigquery\n",
    "from google.oauth2 import service_account\n",
    "import pandas as pd\n"
   ]
  },
  {
   "cell_type": "code",
   "execution_count": 4,
   "id": "c780e440-98c1-4e87-b92f-007eb9dc769e",
   "metadata": {},
   "outputs": [],
   "source": [
    "credentials = service_account.Credentials.from_service_account_file(key_path)"
   ]
  },
  {
   "cell_type": "code",
   "execution_count": 5,
   "id": "838e9489-1bdc-4d9a-a8e8-8b2e5892d0fa",
   "metadata": {},
   "outputs": [],
   "source": [
    "client = bigquery.Client(credentials=credentials, project=credentials.project_id)"
   ]
  },
  {
   "cell_type": "code",
   "execution_count": null,
   "id": "68eafee9-a24c-4c56-99d2-2550997e1884",
   "metadata": {},
   "outputs": [],
   "source": [
    "# q1 = \"\"\"\n",
    "# INSERT INTO `bruin-hiring.cdt_caneraslan.q1` (repo_name, usage_count)\n",
    "# (\n",
    "#   SELECT\n",
    "#     repo_name,\n",
    "#     COUNT(repo_name) as usage_count\n",
    "#   FROM `bruin-hiring.github_repos.sample_commits`\n",
    "#   GROUP BY repo_name\n",
    "#   ORDER BY usage_count DESC\n",
    "# )\n",
    "# \"\"\"\n",
    "\n",
    "# insert_job = client.query(q1)\n",
    "# insert_job.result()\n",
    "\n",
    "\n",
    "# res = client.query(q1).result()\n",
    "# df = res.to_dataframe()\n",
    "# print(df)"
   ]
  },
  {
   "cell_type": "code",
   "execution_count": 25,
   "id": "4e3452c2",
   "metadata": {},
   "outputs": [],
   "source": [
    "# q2 = \"\"\"\n",
    "# INSERT INTO `bruin-hiring.cdt_caneraslan.q2` (contributor, contribution_number)\n",
    "# (\n",
    "# SELECT\n",
    "#   committer.name as contributor,\n",
    "#   COUNT(committer.name) as contribution_number\n",
    "# FROM `bruin-hiring.github_repos.sample_commits`\n",
    "# GROUP BY contributor\n",
    "# )\n",
    "# \"\"\"\n",
    "\n",
    "query_job = client.query(q2)\n",
    "res = query_job.result()\n",
    "\n",
    "\n",
    "# df = res.to_dataframe()\n",
    "# print(df)"
   ]
  },
  {
   "cell_type": "code",
   "execution_count": 27,
   "id": "7a1ae140",
   "metadata": {},
   "outputs": [],
   "source": [
    "# q3 = \"\"\"\n",
    "# INSERT INTO `bruin-hiring.cdt_caneraslan.q3` (contributor, distinct_repo_number)\n",
    "# (\n",
    "# SELECT \n",
    "# committer.name as contribtor, COUNT(DISTINCT repo_name) as distinct_repo_number  \n",
    "# FROM `bruin-hiring.github_repos.sample_commits`  \n",
    "# GROUP BY committer.name\n",
    "# having count(distinct repo_name)>1\n",
    "# )\n",
    "# \"\"\"\n",
    "\n",
    "res = client.query(q3).result()\n",
    "# print(res.to_dataframe())\n"
   ]
  },
  {
   "cell_type": "code",
   "execution_count": 28,
   "id": "6c3330c7",
   "metadata": {},
   "outputs": [],
   "source": [
    "# q4 = \"\"\"\n",
    "# INSERT INTO `bruin-hiring.cdt_caneraslan.q4` (email_domain, usage_count)\n",
    "# (\n",
    "# SELECT REGEXP_EXTRACT(t.email, r'@(.+)$') AS email_domain, COUNT(t.email) as usage_count\n",
    "# FROM `bruin-hiring.github_repos.sample_commits`, UNNEST(trailer) as t\n",
    "# WHERE t.email is not null\n",
    "# GROUP BY email_domain\n",
    "# )\n",
    "# \"\"\"\n",
    "\n",
    "res = client.query(q4).result()\n",
    "# print(res.to_dataframe())"
   ]
  },
  {
   "cell_type": "code",
   "execution_count": null,
   "id": "1a2e3ae0",
   "metadata": {},
   "outputs": [],
   "source": [
    "# q5 = \"\"\"\n",
    "# INSERT INTO `bruin-hiring.cdt_caneraslan.q5` (commit_date, number_of_commits)\n",
    "# (\n",
    "# SELECT \n",
    "#   DATE(committer.date) \n",
    "#   AS commit_date, COUNT(committer.date) as number_of_commits \n",
    "# FROM `bruin-hiring.github_repos.sample_commits`\n",
    "# GROUP BY commit_date\n",
    "# )\n",
    "# \"\"\"\n",
    "\n",
    "res = client.query(q5).result()\n",
    "# print(res.to_dataframe())"
   ]
  },
  {
   "cell_type": "code",
   "execution_count": 31,
   "id": "6080adb7",
   "metadata": {},
   "outputs": [],
   "source": [
    "# since weekday function is not recognized in bigquery, extract function must be used instead.\n",
    "# q6 = \"\"\"\n",
    "# INSERT INTO `bruin-hiring.cdt_caneraslan.q6` (commit_date, number_of_commits)\n",
    "# (\n",
    "# SELECT \n",
    "#   DATE(committer.date) AS commit_date,\n",
    "#   COUNT(committer.date) AS number_of_commits\n",
    "# FROM `bruin-hiring.github_repos.sample_commits`\n",
    "# WHERE EXTRACT(DAYOFWEEK FROM committer.date) BETWEEN 2 AND 6\n",
    "# GROUP BY commit_date\n",
    "# )\n",
    "# \"\"\"\n",
    "\n",
    "res = client.query(q6).result()\n",
    "# print(res.to_dataframe())\n"
   ]
  }
 ],
 "metadata": {
  "kernelspec": {
   "display_name": "Python 3 (ipykernel)",
   "language": "python",
   "name": "python3"
  },
  "language_info": {
   "codemirror_mode": {
    "name": "ipython",
    "version": 3
   },
   "file_extension": ".py",
   "mimetype": "text/x-python",
   "name": "python",
   "nbconvert_exporter": "python",
   "pygments_lexer": "ipython3",
   "version": "3.11.1"
  }
 },
 "nbformat": 4,
 "nbformat_minor": 5
}
