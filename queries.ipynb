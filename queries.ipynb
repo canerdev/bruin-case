{
 "cells": [
  {
   "cell_type": "code",
   "execution_count": null,
   "id": "5e558d3a-60e8-4aa4-b2f6-6c5508c61bea",
   "metadata": {},
   "outputs": [],
   "source": [
    "pip install google-auth\n",
    "pip install google-cloud-bigquery[pandas]"
   ]
  },
  {
   "cell_type": "code",
   "execution_count": 3,
   "id": "c780e440-98c1-4e87-b92f-007eb9dc769e",
   "metadata": {},
   "outputs": [],
   "source": [
    "from google.cloud import bigquery\n",
    "from google.oauth2 import service_account\n",
    "import pandas as pd\n",
    "key_path = \"../../Downloads/bruin-case-credentials.json\"\n"
   ]
  },
  {
   "cell_type": "code",
   "execution_count": 4,
   "id": "838e9489-1bdc-4d9a-a8e8-8b2e5892d0fa",
   "metadata": {},
   "outputs": [],
   "source": [
    "credentials = service_account.Credentials.from_service_account_file(key_path)\n",
    "client = bigquery.Client(credentials=credentials, project=credentials.project_id)"
   ]
  },
  {
   "cell_type": "code",
   "execution_count": 25,
   "id": "68eafee9-a24c-4c56-99d2-2550997e1884",
   "metadata": {},
   "outputs": [],
   "source": [
    "# 1- What are the most popular repos?\n",
    "\n",
    "q1 = \"\"\"\n",
    "CREATE OR REPLACE TABLE `bruin-hiring.cdt_caneraslan.q1` AS\n",
    "(\n",
    "  SELECT\n",
    "    repo_name,\n",
    "    COUNT(repo_name) AS commit_number\n",
    "  FROM `bruin-hiring.github_repos.sample_commits`\n",
    "  GROUP BY repo_name\n",
    "  ORDER BY commit_number DESC\n",
    ")\n",
    "\"\"\"\n",
    "\n",
    "res = client.query(q1).result()\n",
    "# df = res.to_dataframe()\n",
    "# print(df)"
   ]
  },
  {
   "cell_type": "code",
   "execution_count": 14,
   "id": "4e3452c2",
   "metadata": {},
   "outputs": [],
   "source": [
    "# 2- Who are the top contributors?\n",
    "\n",
    "q2 = \"\"\"\n",
    "CREATE OR REPLACE TABLE `bruin-hiring.cdt_caneraslan.q2` AS\n",
    "(\n",
    "SELECT\n",
    "  committer.name as contributor,\n",
    "  COUNT(committer.email) as contribution_number\n",
    "FROM `bruin-hiring.github_repos.sample_commits`\n",
    "GROUP BY contributor, committer.email\n",
    "ORDER BY contribution_number DESC\n",
    ")\n",
    "\"\"\"\n",
    "\n",
    "query_job = client.query(q2)\n",
    "res = query_job.result()\n",
    "\n",
    "# df = res.to_dataframe()\n",
    "# print(df)"
   ]
  },
  {
   "cell_type": "code",
   "execution_count": 26,
   "id": "7a1ae140",
   "metadata": {},
   "outputs": [],
   "source": [
    "# 3- Are there any developer contributing to more than 1 repos?\n",
    "\n",
    "q3 = \"\"\"\n",
    "CREATE OR REPLACE TABLE `bruin-hiring.cdt_caneraslan.q3` AS\n",
    "(\n",
    "SELECT \n",
    "  committer.name as contributor, \n",
    "  COUNT(DISTINCT repo_name) as distinct_repo_number  \n",
    "FROM `bruin-hiring.github_repos.sample_commits`  \n",
    "GROUP BY 1\n",
    "having count(distinct repo_name)>1\n",
    "ORDER BY distinct_repo_number DESC\n",
    ")\n",
    "\"\"\"\n",
    "\n",
    "res = client.query(q3).result()\n",
    "# print(res.to_dataframe())\n"
   ]
  },
  {
   "cell_type": "code",
   "execution_count": 19,
   "id": "6c3330c7",
   "metadata": {},
   "outputs": [],
   "source": [
    "# 4- What are the most popular email domains?\n",
    "\n",
    "q4 = \"\"\"\n",
    "CREATE OR REPLACE TABLE `bruin-hiring.cdt_caneraslan.q4` AS\n",
    "(\n",
    "SELECT SPLIT(committer.email, '@')[SAFE_OFFSET(1)] AS email_domain, COUNT(committer.email) as commit_number\n",
    "FROM `bruin-hiring.github_repos.sample_commits`\n",
    "WHERE committer.email is not null\n",
    "GROUP BY email_domain\n",
    "ORDER BY commit_number DESC\n",
    ")\n",
    "\"\"\"\n",
    "\n",
    "res = client.query(q4).result()\n",
    "# print(res.to_dataframe())"
   ]
  },
  {
   "cell_type": "code",
   "execution_count": 22,
   "id": "1a2e3ae0",
   "metadata": {},
   "outputs": [],
   "source": [
    "# 5- Number of commits per day\n",
    "\n",
    "q5 = \"\"\"\n",
    "CREATE OR REPLACE TABLE `bruin-hiring.cdt_caneraslan.q5` AS\n",
    "(\n",
    "SELECT \n",
    "  DATE(committer.date) AS commit_date, \n",
    "  COUNT(committer.date) as commit_number \n",
    "FROM `bruin-hiring.github_repos.sample_commits`\n",
    "GROUP BY commit_date\n",
    "ORDER BY commit_number DESC\n",
    ")\n",
    "\"\"\"\n",
    "\n",
    "res = client.query(q5).result()\n",
    "# print(res.to_dataframe())"
   ]
  },
  {
   "cell_type": "code",
   "execution_count": 24,
   "id": "6080adb7",
   "metadata": {},
   "outputs": [],
   "source": [
    "# 6- Number of commits per weekday\n",
    "\n",
    "q6 = \"\"\"\n",
    "CREATE OR REPLACE TABLE `bruin-hiring.cdt_caneraslan.q6` AS\n",
    "(\n",
    "SELECT \n",
    "    EXTRACT(DAYOFWEEK FROM committer.date) AS commit_date,\n",
    "    COUNT(committer.date) AS commit_number\n",
    "FROM bruin-hiring.github_repos.sample_commits\n",
    "GROUP BY 1\n",
    "ORDER BY 1 DESC\n",
    ")\n",
    "\"\"\"\n",
    "\n",
    "res = client.query(q6).result()\n",
    "# print(res.to_dataframe())"
   ]
  },
  {
   "cell_type": "code",
   "execution_count": 18,
   "id": "2f49b048-3780-4a47-98d2-83f89fe0ddbc",
   "metadata": {},
   "outputs": [],
   "source": [
    "q8 = \"\"\"\n",
    "CREATE OR REPLACE TABLE bruin-hiring.cdt_caneraslan.q8 AS\n",
    "(\n",
    "WITH ranked_paths AS (\n",
    "  SELECT\n",
    "    repo_name,\n",
    "    difference.old_path,\n",
    "    COUNT(difference.old_path) AS path_count,\n",
    "    ROW_NUMBER() OVER (PARTITION BY repo_name ORDER BY COUNT(difference.old_path) DESC) AS rank\n",
    "  FROM\n",
    "    `bruin-hiring.github_repos.sample_commits`,\n",
    "    UNNEST(difference) AS difference\n",
    "  GROUP BY\n",
    "    repo_name, difference.old_path\n",
    ")\n",
    "\n",
    "SELECT\n",
    "  repo_name,\n",
    "  old_path,\n",
    "  path_count\n",
    "FROM\n",
    "  ranked_paths\n",
    "WHERE\n",
    "  rank <= 5\n",
    "ORDER BY\n",
    "  repo_name, path_count DESC\n",
    ")\n",
    "\"\"\"\n",
    "\n",
    "res = client.query(q8).result()\n",
    "# print(res.to_dataframe())\n"
   ]
  }
 ],
 "metadata": {
  "kernelspec": {
   "display_name": "Python 3 (ipykernel)",
   "language": "python",
   "name": "python3"
  },
  "language_info": {
   "codemirror_mode": {
    "name": "ipython",
    "version": 3
   },
   "file_extension": ".py",
   "mimetype": "text/x-python",
   "name": "python",
   "nbconvert_exporter": "python",
   "pygments_lexer": "ipython3",
   "version": "3.11.7"
  }
 },
 "nbformat": 4,
 "nbformat_minor": 5
}
